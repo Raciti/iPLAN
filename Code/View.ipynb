{
  "nbformat": 4,
  "nbformat_minor": 0,
  "metadata": {
    "colab": {
      "provenance": []
    },
    "kernelspec": {
      "name": "python3",
      "display_name": "Python 3"
    },
    "language_info": {
      "name": "python"
    }
  },
  "cells": [
    {
      "cell_type": "code",
      "execution_count": 1,
      "metadata": {
        "colab": {
          "base_uri": "https://localhost:8080/"
        },
        "id": "OlXm748J8fBh",
        "outputId": "8bc51f8f-a4f8-4786-bb86-38a7ce795c39"
      },
      "outputs": [
        {
          "output_type": "stream",
          "name": "stdout",
          "text": [
            "Mounted at /content/drive/\n"
          ]
        }
      ],
      "source": [
        "from google.colab import drive\n",
        "drive.mount('/content/drive/')\n"
      ]
    },
    {
      "cell_type": "code",
      "source": [
        "import numpy as np\n",
        "import torch\n",
        "import scipy.io as sio\n",
        "import os"
      ],
      "metadata": {
        "id": "ZC3MhjGn83pi"
      },
      "execution_count": 2,
      "outputs": []
    },
    {
      "cell_type": "code",
      "source": [
        "def getData(path):\n",
        "    mat_list = os.listdir(path)\n",
        "    mat_list.sort()\n",
        "    temp_list = []\n",
        "    for name in mat_list[:]:\n",
        "        mat_path = os.path.join(path, name)\n",
        "        data = sio.loadmat(mat_path, squeeze_me=True, struct_as_record=False)['data']\n",
        "        temp_list.append(data)\n",
        "    return temp_list"
      ],
      "metadata": {
        "id": "6tS-aCEg8pBK"
      },
      "execution_count": 3,
      "outputs": []
    },
    {
      "cell_type": "code",
      "source": [
        "data0, data1 = getData(\"/content/drive/MyDrive/Colab_Notebooks/Deep_Learning/Progetto/Risultati/RoomPartition/\")"
      ],
      "metadata": {
        "id": "CbZ21X4y89Lx"
      },
      "execution_count": 4,
      "outputs": []
    },
    {
      "cell_type": "code",
      "source": [
        "print('name:', data0.name)\n",
        "print('gt_rTypes:', data0.gt_rTypes)\n",
        "print('gt_rBoxes:', data0.gt_rBoxes)\n",
        "print('Boundary:', data0.Boundary)\n",
        "print('rTypes:', data0.rTypes)\n",
        "print('rBoxes:',data0.rBoxes)\n",
        "print('rCenters:',data0.rCenters)\n"
      ],
      "metadata": {
        "colab": {
          "base_uri": "https://localhost:8080/"
        },
        "id": "zs97rL2S9Cyt",
        "outputId": "ec32910f-c9e0-4566-97c0-2cfe9873e7a2"
      },
      "execution_count": 5,
      "outputs": [
        {
          "output_type": "stream",
          "name": "stdout",
          "text": [
            "name: 0\n",
            "gt_rTypes: [0 1 2 3 7 9]\n",
            "gt_rBoxes: [[ 14  55 101  92]\n",
            " [ 80  36 110  62]\n",
            " [ 26  57  41  72]\n",
            " [ 65  36  78  53]\n",
            " [ 43  36  63  62]\n",
            " [103  64 114  92]]\n",
            "Boundary: [[ 19  82   1   1]\n",
            " [ 27  82   1   1]\n",
            " [ 43  82   0   0]\n",
            " [ 43  92   1   0]\n",
            " [114  92   2   0]\n",
            " [114  64   3   0]\n",
            " [110  64   2   0]\n",
            " [110  36   3   0]\n",
            " [ 43  36   0   0]\n",
            " [ 43  57   3   0]\n",
            " [ 26  57   0   0]\n",
            " [ 26  74   3   0]\n",
            " [ 14  74   0   0]\n",
            " [ 14  82   1   0]]\n",
            "rTypes: [0 1 2 3 7 9]\n",
            "rBoxes: [[0 0 0 0]\n",
            " [0 0 0 0]\n",
            " [0 0 0 0]\n",
            " [0 0 0 0]\n",
            " [0 0 0 0]]\n",
            "rCenters: [[ 58  71]\n",
            " [ 93  48]\n",
            " [ 33  65]\n",
            " [ 72  43]\n",
            " [ 53  47]\n",
            " [108  78]]\n"
          ]
        }
      ]
    },
    {
      "cell_type": "code",
      "source": [
        "print('name:', data1.name)\n",
        "print('gt_rTypes:', data1.gt_rTypes)\n",
        "print('gt_rBoxes:', data1.gt_rBoxes)\n",
        "print('Boundary:', data1.Boundary)\n",
        "print('rTypes:', data1.rTypes)\n",
        "print('rBoxes:',data1.rBoxes)\n",
        "print('rCenters:',data1.rCenters)\n"
      ],
      "metadata": {
        "colab": {
          "base_uri": "https://localhost:8080/"
        },
        "id": "ptqJgyf4xQEg",
        "outputId": "7c512fb3-8358-4028-8f20-4a538054604d"
      },
      "execution_count": 17,
      "outputs": [
        {
          "output_type": "stream",
          "name": "stdout",
          "text": [
            "name: 1\n",
            "gt_rTypes: [0 1 2 3 5 7 9]\n",
            "gt_rBoxes: [[ 28  22  65 106]\n",
            " [ 67  72  97 106]\n",
            " [ 25  22  42  36]\n",
            " [ 28  38  36  50]\n",
            " [ 67  52  97  70]\n",
            " [ 67  22  97  50]\n",
            " [ 99  72 103 106]]\n",
            "Boundary: [[ 59 101   0   1]\n",
            " [ 59 106   1   0]\n",
            " [103 106   2   0]\n",
            " [103  72   3   0]\n",
            " [ 97  72   2   0]\n",
            " [ 97  22   3   0]\n",
            " [ 25  22   0   0]\n",
            " [ 25  36   1   0]\n",
            " [ 28  36   0   0]\n",
            " [ 28 100   1   0]\n",
            " [ 59 100   0   0]]\n",
            "rTypes: [0 1 2 3 7 7]\n",
            "rBoxes: [[0 0 0 0]\n",
            " [0 0 0 0]\n",
            " [0 0 0 0]\n",
            " [0 0 0 0]\n",
            " [0 0 0 0]]\n",
            "rCenters: [[64 69]\n",
            " [79 33]\n",
            " [40 69]\n",
            " [36 52]\n",
            " [81 59]\n",
            " [39 32]]\n"
          ]
        }
      ]
    },
    {
      "cell_type": "code",
      "source": [
        "import matplotlib.pyplot as plt\n",
        "import matplotlib.image as mpimg\n",
        "\n",
        "\n",
        "image_path_0 = '/content/drive/MyDrive/Colab_Notebooks/Deep_Learning/Progetto/Input/mat0.png'\n",
        "image_path_1 = '/content/drive/MyDrive/Colab_Notebooks/Deep_Learning/Progetto/Input/mat1.png'\n",
        "\n",
        "\n",
        "img0 = mpimg.imread(image_path_0)\n",
        "img1 = mpimg.imread(image_path_1)\n",
        "\n",
        "\n",
        "fig, axes = plt.subplots(1, 2, figsize=(10, 10))\n",
        "axes[0].imshow(img0, cmap='gray')\n",
        "axes[1].imshow(img1, cmap='gray')\n",
        "\n",
        "\n",
        "for ax in axes:\n",
        "    ax.grid(False)\n",
        "    ax.axis('off')\n",
        "\n",
        "\n",
        "plt.tight_layout()\n",
        "plt.show()\n"
      ],
      "metadata": {
        "colab": {
          "base_uri": "https://localhost:8080/",
          "height": 514
        },
        "id": "cAZRM0vP-ieO",
        "outputId": "2e3f9162-6b81-4b91-bb25-c8122413900d"
      },
      "execution_count": 6,
      "outputs": [
        {
          "output_type": "display_data",
          "data": {
            "text/plain": [
              "<Figure size 1000x1000 with 2 Axes>"
            ],
            "image/png": "[encoded data removed]"
          },
          "metadata": {}
        }
      ]
    },
    {
      "cell_type": "code",
      "source": [
        "room_label = [(0, 'LivingRoom'),\n",
        "              (1, 'MasterRoom'),\n",
        "              (2, 'Kitchen'),\n",
        "              (3, 'Bathroom'),\n",
        "              (4, 'DiningRoom'),\n",
        "              (5, 'ChildRoom'),\n",
        "              (6, 'StudyRoom'),\n",
        "              (7, 'SecondRoom'),\n",
        "              (8, 'GuestRoom'),\n",
        "              (9, 'Balcony'),\n",
        "              (10, 'Entrance'),\n",
        "              (11, 'Storage'),\n",
        "              (12, 'Wall-in'),\n",
        "              (13, 'External'),\n",
        "              (14, 'ExteriorWall'),\n",
        "              (15, 'FrontDoor'),\n",
        "              (16, 'Interior')]\n",
        "\n",
        "rTypes = data0.rTypes\n",
        "rCenter = data0.rCenters"
      ],
      "metadata": {
        "id": "rdwHIuF-AGUw"
      },
      "execution_count": 7,
      "outputs": []
    },
    {
      "cell_type": "code",
      "source": [
        "len(rTypes)"
      ],
      "metadata": {
        "colab": {
          "base_uri": "https://localhost:8080/"
        },
        "id": "GqFE83TWBcr_",
        "outputId": "38f5ea43-b5f2-43b6-a7c3-a2318dfd6b5a"
      },
      "execution_count": 8,
      "outputs": [
        {
          "output_type": "execute_result",
          "data": {
            "text/plain": [
              "6"
            ]
          },
          "metadata": {},
          "execution_count": 8
        }
      ]
    },
    {
      "cell_type": "code",
      "source": [
        "fig, axes = plt.subplots(nrows=1, ncols=2, figsize=(10, 10))\n",
        "\n",
        "rTypes = data0.rTypes\n",
        "print(data0.gt_rTypes)\n",
        "print(rTypes)\n",
        "rCenter = data0.rCenters\n",
        "\n",
        "# Prima figura\n",
        "ax = axes[0]\n",
        "ax.imshow(img0, cmap='gray')\n",
        "ax.grid(\"off\")\n",
        "ax.axis('off')\n",
        "\n",
        "\n",
        "# Seconda figura\n",
        "ax = axes[1]\n",
        "ax.imshow(img0, cmap='gray')\n",
        "ax.grid(\"off\")\n",
        "ax.axis('off')\n",
        "for j in range(len(rTypes)):\n",
        "  ax.scatter(rCenter[j][1], rCenter[j][0], color='red', marker='o')\n",
        "  ax.text(rCenter[j][1], rCenter[j][0] + 3, room_label[rTypes[j]][1], color='blue', ha='center', va='center')\n",
        "\n",
        "# Regolare il layout\n",
        "plt.tight_layout()\n",
        "plt.show()"
      ],
      "metadata": {
        "colab": {
          "base_uri": "https://localhost:8080/",
          "height": 549
        },
        "id": "ilwVQxvuBfzd",
        "outputId": "d045a754-fdf6-41ff-a22e-237c0a18d62e"
      },
      "execution_count": 15,
      "outputs": [
        {
          "output_type": "stream",
          "name": "stdout",
          "text": [
            "[0 1 2 3 7 9]\n",
            "[0 1 2 3 7 9]\n"
          ]
        },
        {
          "output_type": "display_data",
          "data": {
            "text/plain": [
              "<Figure size 1000x1000 with 2 Axes>"
            ],
            "image/png": "[encoded data removed]"
          },
          "metadata": {}
        }
      ]
    },
    {
      "cell_type": "code",
      "source": [
        "fig, axes = plt.subplots(nrows=1, ncols=2, figsize=(10, 10))\n",
        "rTypes = data1.rTypes\n",
        "print(data1.gt_rTypes)\n",
        "print(rTypes)\n",
        "rCenter = data1.rCenters\n",
        "# Prima figura\n",
        "ax = axes[0]\n",
        "ax.imshow(img1, cmap='gray')\n",
        "ax.grid(\"off\")\n",
        "ax.axis('off')\n",
        "\n",
        "\n",
        "# Seconda figura\n",
        "ax = axes[1]\n",
        "ax.imshow(img1, cmap='gray')\n",
        "ax.grid(\"off\")\n",
        "ax.axis('off')\n",
        "for j in range(len(rTypes)):\n",
        "    ax.scatter(rCenter[j][1], rCenter[j][0], color='red', marker='o')\n",
        "    ax.text(rCenter[j][1], rCenter[j][0] + 3, room_label[rTypes[j]][1], color='blue', ha='center', va='center')\n",
        "\n",
        "# Regolare il layout\n",
        "plt.tight_layout()\n",
        "plt.show()"
      ],
      "metadata": {
        "colab": {
          "base_uri": "https://localhost:8080/",
          "height": 549
        },
        "id": "xnivJ0sHBniv",
        "outputId": "fed00a2e-e66d-4154-fd50-92a68b97633b"
      },
      "execution_count": 16,
      "outputs": [
        {
          "output_type": "stream",
          "name": "stdout",
          "text": [
            "[0 1 2 3 5 7 9]\n",
            "[0 1 2 3 7 7]\n"
          ]
        },
        {
          "output_type": "display_data",
          "data": {
            "text/plain": [
              "<Figure size 1000x1000 with 2 Axes>"
            ],
            "image/png": "[encoded data removed]"
          },
          "metadata": {}
        }
      ]
    },
    {
      "cell_type": "code",
      "source": [],
      "metadata": {
        "id": "DeOz0CNsC7Gp"
      },
      "execution_count": 10,
      "outputs": []
    }
  ]
}