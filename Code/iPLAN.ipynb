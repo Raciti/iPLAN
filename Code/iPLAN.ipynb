{
  "cells": [
    {
      "cell_type": "code",
      "execution_count": 1,
      "metadata": {
        "colab": {
          "base_uri": "https://localhost:8080/"
        },
        "id": "3P_zD7hGruQA",
        "outputId": "1f91ed37-bcbd-45c0-9836-b1857adbf556"
      },
      "outputs": [
        {
          "output_type": "stream",
          "name": "stdout",
          "text": [
            "Mounted at /content/drive/\n",
            "Cloning into 'iPLAN-Interactive-and-Procedural-Layout-Planning'...\n",
            "remote: Enumerating objects: 301, done.\u001b[K\n",
            "remote: Counting objects: 100% (210/210), done.\u001b[K\n",
            "remote: Compressing objects: 100% (156/156), done.\u001b[K\n",
            "remote: Total 301 (delta 96), reused 106 (delta 46), pack-reused 91\u001b[K\n",
            "Receiving objects: 100% (301/301), 12.98 MiB | 28.22 MiB/s, done.\n",
            "Resolving deltas: 100% (117/117), done.\n",
            "Directory di lavoro corrente: /content\n",
            "Nuova directory di lavoro: /content/iPLAN-Interactive-and-Procedural-Layout-Planning\n"
          ]
        }
      ],
      "source": [
        "from google.colab import drive\n",
        "drive.mount('/content/drive/')\n",
        "\n",
        "!git clone https://github.com/realcrane/iPLAN-Interactive-and-Procedural-Layout-Planning\n",
        "\n",
        "import os\n",
        "print(\"Directory di lavoro corrente:\", os.getcwd())\n",
        "roomType_directory = '/content/iPLAN-Interactive-and-Procedural-Layout-Planning/'\n",
        "os.chdir(roomType_directory)\n",
        "print(\"Nuova directory di lavoro:\", os.getcwd())"
      ]
    },
    {
      "cell_type": "code",
      "execution_count": 2,
      "metadata": {
        "id": "L547UbNXr2sp"
      },
      "outputs": [],
      "source": [
        "import numpy as np\n",
        "import torch\n",
        "from synth.floorplan.roomtype_fp import FloorPlan\n",
        "from room_type import models\n",
        "import scipy.io as sio"
      ]
    },
    {
      "cell_type": "code",
      "execution_count": 3,
      "metadata": {
        "id": "AmMOhP3Er5Sn"
      },
      "outputs": [],
      "source": [
        "def getList(path):\n",
        "  mat_list = os.listdir(path)\n",
        "  mat_list.sort()\n",
        "  temp_list = []\n",
        "  for name in mat_list[:]: #Correzione\n",
        "      mat_path = os.path.join(path, name)\n",
        "      data = sio.loadmat(mat_path, squeeze_me=True, struct_as_record=False)['data']\n",
        "      if type(data.rTypes) is not np.ndarray or len(data.rTypes) == 0:\n",
        "          temp_list.append(name)\n",
        "\n",
        "  return temp_list"
      ]
    },
    {
      "cell_type": "markdown",
      "metadata": {
        "id": "OWd4PuJasJDI"
      },
      "source": [
        "#ROOM TYPE\n"
      ]
    },
    {
      "cell_type": "code",
      "execution_count": 4,
      "metadata": {
        "colab": {
          "base_uri": "https://localhost:8080/"
        },
        "id": "J341D6Mhr5z-",
        "outputId": "4f8203d1-86f0-44f0-ec9e-ecadb25761f6"
      },
      "outputs": [
        {
          "output_type": "stream",
          "name": "stdout",
          "text": [
            "Building model...\n",
            "CVAE(\n",
            "  (fc1): Linear(in_features=83, out_features=128, bias=True)\n",
            "  (fc2): Linear(in_features=128, out_features=64, bias=True)\n",
            "  (fc31): Linear(in_features=64, out_features=32, bias=True)\n",
            "  (fc32): Linear(in_features=64, out_features=32, bias=True)\n",
            "  (fc4): Linear(in_features=96, out_features=96, bias=True)\n",
            "  (fc5): Linear(in_features=96, out_features=64, bias=True)\n",
            "  (fc6): Linear(in_features=64, out_features=19, bias=True)\n",
            "  (relu): ReLU()\n",
            "  (embed): Sequential(\n",
            "    (0): Conv2d(1, 16, kernel_size=(4, 4), stride=(2, 2), padding=(1, 1))\n",
            "    (1): BatchNorm2d(16, eps=1e-05, momentum=0.1, affine=True, track_running_stats=True)\n",
            "    (2): ReLU(inplace=True)\n",
            "    (3): Conv2d(16, 16, kernel_size=(4, 4), stride=(2, 2), padding=(1, 1))\n",
            "    (4): BatchNorm2d(16, eps=1e-05, momentum=0.1, affine=True, track_running_stats=True)\n",
            "    (5): ReLU(inplace=True)\n",
            "    (6): Conv2d(16, 32, kernel_size=(4, 4), stride=(2, 2), padding=(1, 1))\n",
            "    (7): BatchNorm2d(32, eps=1e-05, momentum=0.1, affine=True, track_running_stats=True)\n",
            "    (8): ReLU(inplace=True)\n",
            "    (9): Conv2d(32, 32, kernel_size=(4, 4), stride=(2, 2), padding=(1, 1))\n",
            "    (10): BatchNorm2d(32, eps=1e-05, momentum=0.1, affine=True, track_running_stats=True)\n",
            "    (11): ReLU(inplace=True)\n",
            "    (12): Conv2d(32, 16, kernel_size=(4, 4), stride=(2, 2), padding=(1, 1))\n",
            "    (13): BatchNorm2d(16, eps=1e-05, momentum=0.1, affine=True, track_running_stats=True)\n",
            "    (14): ReLU(inplace=True)\n",
            "    (15): Conv2d(16, 16, kernel_size=(4, 4), stride=(2, 2), padding=(1, 1))\n",
            "    (16): BatchNorm2d(16, eps=1e-05, momentum=0.1, affine=True, track_running_stats=True)\n",
            "    (17): ReLU(inplace=True)\n",
            "    (18): Flatten(start_dim=1, end_dim=-1)\n",
            "  )\n",
            ")\n"
          ]
        }
      ],
      "source": [
        "max_room_per_type = [1, 2, 1, 2, 1, 1, 1, 3, 1, 3, 1, 1, 1]\n",
        "max_room_num = np.sum(np.array(max_room_per_type))\n",
        "noise_dim = 32\n",
        "load_cvae_path = \"/content/drive/MyDrive/Colab_Notebooks/Deep_Learning/Progetto/Model/room_type/roomtype_cvae_150.pth\"\n",
        "\n",
        "# step1: configure model\n",
        "print('Building model...')\n",
        "cvae = models.cvae(\n",
        "    modul_name='roomtype',\n",
        "    model_name='cvae',\n",
        "    input_dim=max_room_num,\n",
        "    hidden_dim1=128,\n",
        "    hidden_dim2=64,\n",
        "    z_dim=noise_dim\n",
        ")\n",
        "print(cvae)\n",
        "\n",
        "cvae.load_model(load_cvae_path)\n",
        "cvae.cuda()\n",
        "\n",
        "# step2: data\n",
        "\n",
        "data_root = \"/content/drive/MyDrive/Colab_Notebooks/Deep_Learning/Progetto/Data\"\n",
        "# data_root = \"/content/iPLAN-Interactive-and-Procedural-Layout-Planning/data/test\"\n",
        "floorplans = getList(data_root)\n",
        "\n",
        "Input = []\n",
        "Output = []\n",
        "# step3: testing\n",
        "for i in range(len(floorplans)):\n",
        "  fp_name = floorplans[i]\n",
        "  fp_path = os.path.join(data_root, fp_name)\n",
        "  fp = FloorPlan(fp_path)\n",
        "\n",
        "  # if given room types\n",
        "  # fp.rTypes = fp.gt_rTypes\n",
        "  # fp.rBoxes = np.array([])\n",
        "  # fp.rCenters= np.array([])\n",
        "  # data = fp.to_dict()\n",
        "  # sio.savemat(fp_path, {'data': data})\n",
        "\n",
        "  input_img = fp.init_input_img(fp.exterior_boundary)\n",
        "  Input.append(input_img)\n",
        "  input_img = torch.FloatTensor(input_img).unsqueeze(0).unsqueeze(0).cuda()\n",
        "  input_img = fp.normalize(input_img)\n",
        "\n",
        "  with torch.no_grad():\n",
        "    emb = cvae.embed(input_img)\n",
        "    z = torch.randn(input_img.size(0), 32).cuda()\n",
        "    o_z = torch.cat([z, emb], 1)\n",
        "    sample = cvae.decoder(o_z).cuda()\n",
        "    sample = sample.view(-1, 19)\n",
        "    fp.update_rTypes(sample.squeeze().cpu().numpy(), max_room_per_type)\n",
        "    fp.rBoxes = np.array([])\n",
        "    fp.rCenters = np.array([])\n",
        "    data = fp.to_dict()\n",
        "    Output.append(data)\n",
        "    #sio.savemat(fp_path, {'data': data})"
      ]
    },
    {
      "cell_type": "markdown",
      "metadata": {
        "id": "Bf-7PleRs6tw"
      },
      "source": [
        "## Risultati"
      ]
    },
    {
      "cell_type": "code",
      "execution_count": 5,
      "metadata": {
        "colab": {
          "base_uri": "https://localhost:8080/"
        },
        "id": "zoQKxNyAtAkN",
        "outputId": "bb290743-a8b3-49c5-8b2e-c2e16c251656"
      },
      "outputs": [
        {
          "output_type": "stream",
          "name": "stdout",
          "text": [
            "[0 1 2 3 7 9 9]\n",
            "[0 1 2 3 7 9]\n",
            "[0 1 2 3 7 9]\n",
            "[0 1 2 3 3 7 9]\n",
            "[0 1 2 3 7 9]\n",
            "[0 1 2 3 7 9]\n",
            "[0 1 2 3 7 9]\n",
            "[0 1 2 3 7 9]\n",
            "[0 1 2 3 7 9]\n",
            "[0 1 2 3 7 9]\n",
            "[0 1 2 3 7 9]\n"
          ]
        }
      ],
      "source": [
        "for dictionary in Output:\n",
        "  for key, value in dictionary.items():\n",
        "    if key == \"rTypes\": print(value)"
      ]
    },
    {
      "cell_type": "markdown",
      "metadata": {
        "id": "bjyDBufYuWcW"
      },
      "source": [
        "## SALVATAGGIO DATI"
      ]
    },
    {
      "cell_type": "code",
      "execution_count": 6,
      "metadata": {
        "id": "Ri_f4-hBuZHS"
      },
      "outputs": [],
      "source": [
        "for i in range(len(Output)):\n",
        "  sio.savemat(f\"/content/drive/MyDrive/Colab_Notebooks/Deep_Learning/Progetto/Risultati/RoomType/{i}.mat\", {\"data\" : Output[i]})\n"
      ]
    },
    {
      "cell_type": "markdown",
      "metadata": {
        "id": "uNDFs1BLsLd9"
      },
      "source": [
        "#LOCATING ROOM"
      ]
    },
    {
      "cell_type": "code",
      "execution_count": 7,
      "metadata": {
        "id": "JDmmCK_UsPpC"
      },
      "outputs": [],
      "source": [
        "def check_rcenters(center, rCenters):\n",
        "    flag = True\n",
        "    center = np.array(center)\n",
        "    for i in range(len(rCenters)):\n",
        "        temp = np.array(rCenters[i])\n",
        "        dist = np.linalg.norm(center - temp)\n",
        "        if dist < 9:\n",
        "            flag = False\n",
        "            return flag\n",
        "    return flag"
      ]
    },
    {
      "cell_type": "code",
      "execution_count": 8,
      "metadata": {
        "id": "uN-qrfH5tKrQ"
      },
      "outputs": [],
      "source": [
        "def find_center(predict, r_t, mask_size=4):\n",
        "    index_point = []\n",
        "    index = np.where(predict == r_t.cpu().numpy())\n",
        "    for ind in range(index[0].shape[0]):\n",
        "        index_point.append((index[0][ind], index[1][ind]))\n",
        "\n",
        "    num_point = 0\n",
        "    if len(index_point) > 0:\n",
        "        min_h = np.min(index[0])\n",
        "        min_w = np.min(index[1])\n",
        "        max_h = np.max(index[0])\n",
        "        max_w = np.max(index[1])\n",
        "\n",
        "        if max_h - min_h + 1 <= 2 * mask_size and max_w - min_w + 1 <= 2 * mask_size:\n",
        "            predict_h = (min_h + max_h) // 2\n",
        "            predict_w = (min_w + max_w) // 2\n",
        "            num_point = len(index_point)\n",
        "        else:\n",
        "            predict_h, predict_w = index_point[0]\n",
        "            for point in index_point:\n",
        "                new_num_point = 0\n",
        "                for other_point in index_point:\n",
        "                    if abs(other_point[0] - point[0]) <= mask_size and abs(\n",
        "                            other_point[1] - point[1]) <= mask_size:\n",
        "                        new_num_point += 1\n",
        "                if new_num_point > num_point:\n",
        "                    predict_h, predict_w = point\n",
        "                    num_point = new_num_point\n",
        "    if num_point > 0:\n",
        "        return np.array([predict_h, predict_w])\n",
        "    else:\n",
        "        return np.array([0, 0])"
      ]
    },
    {
      "cell_type": "code",
      "execution_count": 9,
      "metadata": {
        "id": "f1PQ23JHtKpe"
      },
      "outputs": [],
      "source": [
        "def get_rcenters(fp, location_model, location_connect, location_embedding, mask_size=4):\n",
        "    pred_rCenters = []\n",
        "    pred_rTypes = []\n",
        "\n",
        "    living_node = fp.living_node\n",
        "    h, w = living_node['centroid']\n",
        "    pred_rCenters.append(np.array([int(h), int(w)]))\n",
        "    pred_rTypes.append(0)\n",
        "\n",
        "    input_location = fp.get_composite_location(num_extra_channels=0)\n",
        "    continue_rTypes = fp.continue_rTypes.squeeze()\n",
        "    input_location = input_location.unsqueeze(0).cuda()\n",
        "\n",
        "    room_num = continue_rTypes.shape[0]\n",
        "\n",
        "    iter = 0\n",
        "    flag = True\n",
        "    while room_num > 0:\n",
        "        update_id = np.zeros(room_num, dtype=bool)\n",
        "        iter = iter + 1\n",
        "\n",
        "        np.random.shuffle(continue_rTypes)\n",
        "        with torch.no_grad():\n",
        "            for n in range(room_num):\n",
        "                score_model = location_model(input_location)\n",
        "                r_t = torch.LongTensor(continue_rTypes[n:n + 1]).cuda()\n",
        "                one_hot_label = torch.nn.functional.one_hot(r_t, num_classes=13)\n",
        "                score_embedding = location_embedding(one_hot_label.float())\n",
        "                score_temp = torch.cat([score_model, score_embedding], 1)\n",
        "                score_connect = location_connect(score_temp)\n",
        "\n",
        "                score_softmax = torch.softmax(score_connect, dim=1)\n",
        "                output = score_softmax.cpu().numpy()\n",
        "                predict = np.argmax(output, axis=1)[0]\n",
        "\n",
        "                center = find_center(predict, r_t)\n",
        "                h, w = center\n",
        "\n",
        "                if h == 0 or w == 0 or input_location[0, 0, h, w] == 0:\n",
        "                    continue\n",
        "\n",
        "                flag = check_rcenters(center, pred_rCenters)\n",
        "\n",
        "                if flag:\n",
        "                    pred_rCenters.append(np.array([h, w]))\n",
        "                    pred_rTypes.append(r_t.cpu().numpy().reshape(1)[0])\n",
        "                    update_id[n] = True\n",
        "                    min_h = max(h - mask_size, 0)\n",
        "                    max_h = min(h + mask_size, 128 - 1)\n",
        "                    min_w = max(w - mask_size, 0)\n",
        "                    max_w = min(w + mask_size, 128 - 1)\n",
        "                    input_location[0, r_t + 4, min_h:max_h + 1, min_w:max_w + 1] = 1.0\n",
        "                    input_location[0, 3, :, :] = input_location[0, 4:, :, :].sum(0)\n",
        "\n",
        "                    iter = 0\n",
        "\n",
        "        continue_rTypes = continue_rTypes[~update_id]\n",
        "        room_num = continue_rTypes.shape[0]\n",
        "\n",
        "        if iter > 5:\n",
        "            if room_num == 0:  # 0: all room centers are located, 1: one room missing, 2: two room missing\n",
        "                flag = True\n",
        "            else:\n",
        "                flag = False\n",
        "            break\n",
        "\n",
        "    return pred_rCenters, pred_rTypes, flag"
      ]
    },
    {
      "cell_type": "code",
      "execution_count": 10,
      "metadata": {
        "id": "8k21h8JjwAOm"
      },
      "outputs": [],
      "source": [
        "def getListLR(path):\n",
        "  mat_list = os.listdir(path)\n",
        "  mat_list.sort()\n",
        "  temp_list = []\n",
        "  for name in mat_list[:]:\n",
        "      mat_path = os.path.join(path, name)\n",
        "      data = sio.loadmat(mat_path, squeeze_me=True, struct_as_record=False)[\"data\"]\n",
        "      if len(data.rCenters) == 0:\n",
        "          temp_list.append(name)\n",
        "  return temp_list"
      ]
    },
    {
      "cell_type": "code",
      "execution_count": 11,
      "metadata": {
        "id": "ixBeUcSHtKnZ"
      },
      "outputs": [],
      "source": [
        "from synth.floorplan.roomlocation_fp import FloorPlan\n",
        "from room_location.Living import models as living\n",
        "from room_location.Location import models as location"
      ]
    },
    {
      "cell_type": "code",
      "execution_count": 12,
      "metadata": {
        "id": "OCmxSbiJtKlC"
      },
      "outputs": [],
      "source": [
        "path_model_roomLocation_resnet = \"/content/drive/MyDrive/Colab_Notebooks/Deep_Learning/Progetto/Model/room_location/resnet18-5c106cde.pth\"\n",
        "\n",
        "path_model_roomLocation_location_resnet = \"/content/drive/MyDrive/Colab_Notebooks/Deep_Learning/Progetto/Model/room_location/location_resnet18_100.pth\"\n",
        "path_model_roomLocation_location_up = \"/content/drive/MyDrive/Colab_Notebooks/Deep_Learning/Progetto/Model/room_location/location_up1_100.pth\"\n",
        "path_model_roomLocation_location_embed = \"/content/drive/MyDrive/Colab_Notebooks/Deep_Learning/Progetto/Model/room_location/location_embed_100.pth\"\n",
        "\n",
        "path_model_roomLocation_living_fci = \"/content/drive/MyDrive/Colab_Notebooks/Deep_Learning/Progetto/Model/room_location/living_fc1_300.pth\"\n",
        "path_model_roomLocation_living_resnet = \"/content/drive/MyDrive/Colab_Notebooks/Deep_Learning/Progetto/Model/room_location/living_resnet18_300.pth\""
      ]
    },
    {
      "cell_type": "code",
      "execution_count": 13,
      "metadata": {
        "colab": {
          "base_uri": "https://localhost:8080/"
        },
        "id": "EA072LWFtKha",
        "outputId": "bc26aee3-67d3-4eb4-c8ca-4e211b4126e9"
      },
      "outputs": [
        {
          "output_type": "stream",
          "name": "stdout",
          "text": [
            "Building model...\n",
            "load the pretrained model...\n"
          ]
        },
        {
          "output_type": "execute_result",
          "data": {
            "text/plain": [
              "Embedding(\n",
              "  (fc): Sequential(\n",
              "    (0): Linear(in_features=13, out_features=256, bias=True)\n",
              "    (1): LeakyReLU(negative_slope=0.01, inplace=True)\n",
              "    (2): Linear(in_features=256, out_features=512, bias=True)\n",
              "    (3): LeakyReLU(negative_slope=0.01, inplace=True)\n",
              "    (4): Linear(in_features=512, out_features=1024, bias=True)\n",
              "    (5): LeakyReLU(negative_slope=0.01, inplace=True)\n",
              "  )\n",
              "  (conv): Sequential(\n",
              "    (0): Conv2d(4, 32, kernel_size=(3, 3), stride=(1, 1), padding=(1, 1))\n",
              "    (1): BatchNorm2d(32, eps=1e-05, momentum=0.1, affine=True, track_running_stats=True)\n",
              "    (2): LeakyReLU(negative_slope=0.01, inplace=True)\n",
              "    (3): Conv2d(32, 64, kernel_size=(3, 3), stride=(1, 1), padding=(1, 1))\n",
              "    (4): BatchNorm2d(64, eps=1e-05, momentum=0.1, affine=True, track_running_stats=True)\n",
              "    (5): LeakyReLU(negative_slope=0.01, inplace=True)\n",
              "    (6): Conv2d(64, 128, kernel_size=(3, 3), stride=(1, 1), padding=(1, 1))\n",
              "    (7): BatchNorm2d(128, eps=1e-05, momentum=0.1, affine=True, track_running_stats=True)\n",
              "    (8): LeakyReLU(negative_slope=0.01, inplace=True)\n",
              "    (9): Conv2d(128, 256, kernel_size=(3, 3), stride=(1, 1), padding=(1, 1))\n",
              "    (10): BatchNorm2d(256, eps=1e-05, momentum=0.1, affine=True, track_running_stats=True)\n",
              "    (11): LeakyReLU(negative_slope=0.01, inplace=True)\n",
              "  )\n",
              ")"
            ]
          },
          "metadata": {},
          "execution_count": 13
        }
      ],
      "source": [
        "# step1: configure model\n",
        "print('Building model...')\n",
        "living_model = living.model(\n",
        "    module_name=\"living\",\n",
        "    model_name=\"resnet18_fc1\",\n",
        "    input_channel=3,\n",
        "    output_channel=2,\n",
        "    pretrained=False,\n",
        ")\n",
        "living_connect = living.connect(\n",
        "    module_name=\"living\",\n",
        "    model_name=\"resnet18_fc1\",\n",
        "    input_channel=512,\n",
        "    output_channel=2,\n",
        "    reshape=True\n",
        ")\n",
        "\n",
        "load_living_model_path = path_model_roomLocation_living_resnet\n",
        "load_living_connect_path = path_model_roomLocation_living_fci\n",
        "living_model.load_model(load_living_model_path)\n",
        "living_connect.load_model(load_living_connect_path)\n",
        "living_model.cuda()\n",
        "living_connect.cuda()\n",
        "\n",
        "location_model = location.model(\n",
        "    module_name='location',\n",
        "    model_name='resnet18_up1',\n",
        "    input_channel=13 + 4,\n",
        "    output_channel=13 + 3,\n",
        "    pretrained=True,\n",
        "    pretrained_path= path_model_roomLocation_resnet\n",
        ")\n",
        "\n",
        "location_connect = location.connect(\n",
        "    module_name='location',\n",
        "    model_name='resnet18_up1',\n",
        "    input_channel=512,\n",
        "    output_channel=13 + 3,\n",
        "    reshape=False\n",
        ")\n",
        "location_embedding = location.embedding(\n",
        "    module_name='location',\n",
        "    model_name='resnet18_up1',\n",
        "    input_channel=13,\n",
        "    output_channel=256,\n",
        "    reshape=False\n",
        ")\n",
        "epoch = 100\n",
        "load_location_model_path = path_model_roomLocation_location_resnet\n",
        "load_location_connect_path = path_model_roomLocation_location_up\n",
        "load_location_embedding_path = path_model_roomLocation_location_embed\n",
        "\n",
        "location_model.load_model(load_location_model_path)\n",
        "location_connect.load_model(load_location_connect_path)\n",
        "location_embedding.load_model(load_location_embedding_path)\n",
        "location_model.cuda()\n",
        "location_connect.cuda()\n",
        "location_embedding.cuda()\n",
        "\n",
        "living_model.eval()\n",
        "living_connect.eval()\n",
        "location_model.eval()\n",
        "location_connect.eval()\n",
        "location_embedding.eval()\n"
      ]
    },
    {
      "cell_type": "code",
      "execution_count": 14,
      "metadata": {
        "colab": {
          "base_uri": "https://localhost:8080/"
        },
        "id": "T1ZRUaRJtKfD",
        "outputId": "90a10e6b-b594-410a-d1dd-7e33342f2ddb"
      },
      "outputs": [
        {
          "output_type": "stream",
          "name": "stdout",
          "text": [
            "The length of testing data is 11\n"
          ]
        }
      ],
      "source": [
        "# step2: data\n",
        "data_root = \"/content/drive/MyDrive/Colab_Notebooks/Deep_Learning/Progetto/Risultati/RoomType\"\n",
        "floorplans = getListLR(data_root)\n",
        "print('The length of testing data is {}'.format(len(floorplans)))"
      ]
    },
    {
      "cell_type": "code",
      "execution_count": 15,
      "metadata": {
        "colab": {
          "base_uri": "https://localhost:8080/"
        },
        "id": "KQbAqJ9ItKc9",
        "outputId": "62ac159a-7183-4b03-d6fe-d5f61637efaf"
      },
      "outputs": [
        {
          "output_type": "stream",
          "name": "stdout",
          "text": [
            "Starting to Testing...\n",
            "0.mat\n",
            "/content/drive/MyDrive/Colab_Notebooks/Deep_Learning/Progetto/Risultati/RoomType/0.mat\n",
            "1/1, has processd 0 \n",
            "1.mat\n",
            "/content/drive/MyDrive/Colab_Notebooks/Deep_Learning/Progetto/Risultati/RoomType/1.mat\n",
            "2/2, has processd 1 \n",
            "10.mat\n",
            "/content/drive/MyDrive/Colab_Notebooks/Deep_Learning/Progetto/Risultati/RoomType/10.mat\n",
            "3/3, has processd 9 \n",
            "2.mat\n",
            "/content/drive/MyDrive/Colab_Notebooks/Deep_Learning/Progetto/Risultati/RoomType/2.mat\n",
            "4/4, has processd 10 \n",
            "3.mat\n",
            "/content/drive/MyDrive/Colab_Notebooks/Deep_Learning/Progetto/Risultati/RoomType/3.mat\n",
            "5/5, has processd 2 \n",
            "4.mat\n",
            "/content/drive/MyDrive/Colab_Notebooks/Deep_Learning/Progetto/Risultati/RoomType/4.mat\n",
            "6/6, has processd 3 \n",
            "5.mat\n",
            "/content/drive/MyDrive/Colab_Notebooks/Deep_Learning/Progetto/Risultati/RoomType/5.mat\n",
            "7/7, has processd 4 \n",
            "6.mat\n",
            "/content/drive/MyDrive/Colab_Notebooks/Deep_Learning/Progetto/Risultati/RoomType/6.mat\n",
            "8/8, has processd 5 \n",
            "7.mat\n",
            "/content/drive/MyDrive/Colab_Notebooks/Deep_Learning/Progetto/Risultati/RoomType/7.mat\n",
            "9/9, has processd 6 \n",
            "8.mat\n",
            "/content/drive/MyDrive/Colab_Notebooks/Deep_Learning/Progetto/Risultati/RoomType/8.mat\n",
            "10/10, has processd 7 \n",
            "9.mat\n",
            "/content/drive/MyDrive/Colab_Notebooks/Deep_Learning/Progetto/Risultati/RoomType/9.mat\n",
            "11/11, has processd 8 \n",
            "11 layouts\n"
          ]
        }
      ],
      "source": [
        "# step3: testing\n",
        "print('Starting to Testing...')\n",
        "total = 0\n",
        "Data = []\n",
        "for i in range(len(Output)):\n",
        "  fp_name = floorplans[i]\n",
        "  print(fp_name)\n",
        "  fp_path = os.path.join(data_root, fp_name)\n",
        "  print(fp_path)\n",
        "  fp = FloorPlan(fp_path)\n",
        "\n",
        "  input_living = fp.get_composite_living()\n",
        "  input_living = input_living.unsqueeze(0).cuda()\n",
        "\n",
        "  with torch.no_grad():\n",
        "    score_model = living_model(input_living)\n",
        "    score_connect_living = living_connect(score_model)\n",
        "    living_center = torch.round(score_connect_living)\n",
        "    living_center = living_center.cpu().squeeze().numpy()\n",
        "\n",
        "  node = {}\n",
        "  node['category'] = int(0)\n",
        "  x = living_center[0]\n",
        "  y = living_center[1]\n",
        "  node['centroid'] = (int(x), int(y))\n",
        "  fp.add_room(node)\n",
        "  fp.living_node = node\n",
        "\n",
        "  iteration = 0\n",
        "  # the maximum sampling for room location\n",
        "  while iteration < 50:\n",
        "    iteration = iteration + 1\n",
        "    pred_rCenters, pred_rTypes, flag = get_rcenters(fp, location_model, location_connect, location_embedding)\n",
        "    if flag:\n",
        "      fp.update_rCenters(pred_rCenters, pred_rTypes)\n",
        "      data = fp.to_dict()\n",
        "      Data.append(data)\n",
        "      sio.savemat(fp_path, {'data': data})\n",
        "      total = total + 1\n",
        "      print('{}/{}, has processd {} '.format(i + 1, total, data['name']))\n",
        "      break\n",
        "\n",
        "print(f'{total} layouts')\n",
        "\n"
      ]
    },
    {
      "cell_type": "markdown",
      "metadata": {
        "id": "iswcn3M4xl7L"
      },
      "source": [
        "## Risultati\n"
      ]
    },
    {
      "cell_type": "code",
      "execution_count": 16,
      "metadata": {
        "colab": {
          "base_uri": "https://localhost:8080/"
        },
        "id": "7VoRhapltKSh",
        "outputId": "0696216b-3e7d-4175-bb6b-77be851247f6"
      },
      "outputs": [
        {
          "output_type": "stream",
          "name": "stdout",
          "text": [
            "[[ 71  70]\n",
            " [ 47  96]\n",
            " [ 67  33]\n",
            " [ 41  76]\n",
            " [ 45  55]\n",
            " [ 77 109]\n",
            " [ 76  20]]\n",
            "[[ 69  70]\n",
            " [ 84  40]\n",
            " [ 28  62]\n",
            " [ 55  33]\n",
            " [ 32  37]\n",
            " [103  81]]\n",
            "[[ 69  71]\n",
            " [ 70  26]\n",
            " [ 44  66]\n",
            " [ 44  84]\n",
            " [ 48 104]\n",
            " [ 76 108]]\n",
            "[[64 61]\n",
            " [81 37]\n",
            " [40 34]\n",
            " [58 31]\n",
            " [45 93]\n",
            " [83 93]]\n",
            "[[ 58  64]\n",
            " [ 48  25]\n",
            " [ 78  19]\n",
            " [ 78  38]\n",
            " [ 77  53]\n",
            " [ 44  91]\n",
            " [ 72 111]]\n",
            "[[ 67  73]\n",
            " [ 54  32]\n",
            " [ 41  71]\n",
            " [ 50  56]\n",
            " [ 45  95]\n",
            " [ 72 107]]\n",
            "[[71 62]\n",
            " [54 78]\n",
            " [86 35]\n",
            " [40 56]\n",
            " [45 36]\n",
            " [81 97]]\n",
            "[[63 57]\n",
            " [43 88]\n",
            " [94 76]\n",
            " [91 59]\n",
            " [86 38]\n",
            " [24 63]]\n",
            "[[ 62  63]\n",
            " [ 83  84]\n",
            " [ 70  39]\n",
            " [ 87  63]\n",
            " [ 46  36]\n",
            " [ 59 100]]\n",
            "[[58 67]\n",
            " [88 48]\n",
            " [35 52]\n",
            " [29 68]\n",
            " [31 87]\n",
            " [79 29]]\n",
            "[[66 66]\n",
            " [64 26]\n",
            " [85 92]\n",
            " [63 95]\n",
            " [44 99]\n",
            " [89 59]]\n"
          ]
        }
      ],
      "source": [
        "for data in Data:\n",
        "  for key, value in data.items():\n",
        "    if key == \"rCenters\": print(value)"
      ]
    },
    {
      "cell_type": "markdown",
      "metadata": {
        "id": "fEwB9k7Hx-dm"
      },
      "source": [
        "## SALVATAGGIO DATI"
      ]
    },
    {
      "cell_type": "code",
      "execution_count": 17,
      "metadata": {
        "id": "7GeW40gXyGOv"
      },
      "outputs": [],
      "source": [
        "for i in range(len(Data)):\n",
        "  sio.savemat(f\"/content/drive/MyDrive/Colab_Notebooks/Deep_Learning/Progetto/Risultati/LocationRoom/{i}.mat\", {\"data\" : Data[i]})\n"
      ]
    },
    {
      "cell_type": "markdown",
      "metadata": {
        "id": "IRuLJ6VFsQTl"
      },
      "source": [
        "# PARTITIONING ROOM\n",
        "\n",
        "Cambiare il path del file .pkl di roompartition\n",
        "\"/content/drive/MyDrive/Colab_Notebooks/Deep_Learning/Progetto/Model/room_partition/renderer.pkl\""
      ]
    },
    {
      "cell_type": "code",
      "execution_count": 18,
      "metadata": {
        "id": "dgDEz3O6sTHT"
      },
      "outputs": [],
      "source": [
        "def fine_turning(pred_rBoxes, boundary, living_mask, criterion, opt):\n",
        "  lr = opt.lr\n",
        "  pred_rBoxes = torch.autograd.Variable(pred_rBoxes, requires_grad=True)\n",
        "  loss = criterion(pred_rBoxes, boundary, living_mask, opt)\n",
        "  loss.backward()\n",
        "  grad = pred_rBoxes.grad\n",
        "  pred_rBoxes = pred_rBoxes - lr * grad\n",
        "  return pred_rBoxes\n",
        "\n",
        "def get_ratio(layout):\n",
        "  spare_area = (layout == 16).sum()\n",
        "  inside_area = (layout < 13).sum() + spare_area\n",
        "  ratio = spare_area / inside_area\n",
        "  return ratio\n",
        "\n",
        "def obtain_living(layout, boundary):\n",
        "  living_mask = layout.clone()\n",
        "  living_mask[living_mask < 16] = 0\n",
        "  min_y, min_x = np.min(boundary[:, :2], 0)\n",
        "  max_y, max_x = np.max(boundary[:, :2], 0)\n",
        "  for h in range(int(min_x) - 5, int(max_x) + 5):\n",
        "    for w in range(int(min_y) - 5, int(max_y) + 5):\n",
        "      if living_mask[h, w] == 0 and living_mask[h + 1, w] == 16 and living_mask[h + 2, w] == 0:\n",
        "        living_mask[h + 1, w] = 0\n",
        "      elif living_mask[h, w] == 0 and living_mask[h + 1, w] == 16 and living_mask[h + 2, w] == 16 and living_mask[\n",
        "        h + 3, w] == 0:\n",
        "        living_mask[h + 1, w] = 0\n",
        "        living_mask[h + 2, w] = 0\n",
        "      elif living_mask[h, w] == 0 and living_mask[h + 1, w] == 16 and living_mask[h + 2, w] == 16 and living_mask[\n",
        "        h + 3, w] == 16 and living_mask[h + 4, w] == 0:\n",
        "        living_mask[h + 1, w] = 0\n",
        "        living_mask[h + 2, w] = 0\n",
        "        living_mask[h + 3, w] = 0\n",
        "\n",
        "      if living_mask[h, w] == 0 and living_mask[h, w + 1] == 16 and living_mask[h, w + 2] == 0:\n",
        "        living_mask[h, w + 1] = 0\n",
        "      elif living_mask[h, w] == 0 and living_mask[h, w + 1] == 16 and living_mask[h, w + 2] == 16 and living_mask[\n",
        "        h, w + 3] == 0:\n",
        "        living_mask[h, w + 1] = 0\n",
        "        living_mask[h, w + 2] = 0\n",
        "      elif living_mask[h, w] == 0 and living_mask[h, w + 1] == 16 and living_mask[h, w + 2] == 16 and living_mask[\n",
        "        h, w + 3] == 16 and living_mask[h, w + 4] == 0:\n",
        "        living_mask[h, w + 1] = 0\n",
        "        living_mask[h, w + 2] = 0\n",
        "        living_mask[h, w + 3] = 0\n",
        "  layout[living_mask==16]=0\n",
        "  index = torch.where(living_mask)\n",
        "  min_x, max_x = torch.min(index[0]),torch.max(index[0])\n",
        "  min_y, max_y = torch.min(index[1]), torch.max(index[1])\n",
        "  box = torch.stack([min_y, min_x, max_y, max_x]) / 127\n",
        "  return box, layout, living_mask/16\n",
        "\n",
        "def get_image(img, rBoxes, rTypes, inside, living_mask=None):\n",
        "  if not living_mask==None:\n",
        "    img[living_mask==1]=0\n",
        "  for r_i in range(len(rTypes)):\n",
        "    r_box = rBoxes[r_i, :] * 127\n",
        "    r_box = r_box.long()\n",
        "    r_type = rTypes[r_i]\n",
        "    mask = torch.zeros(inside.size())\n",
        "    mask[r_box[1]:r_box[3] + 1, r_box[0]:r_box[2] + 1] = 1\n",
        "    mask = mask * inside\n",
        "    img = img * (1 - mask) + mask * r_type\n",
        "  return img"
      ]
    },
    {
      "cell_type": "code",
      "execution_count": 19,
      "metadata": {
        "id": "nZLGWYLwytsz"
      },
      "outputs": [],
      "source": [
        "def getListRP(path):\n",
        "    mat_list = os.listdir(path)\n",
        "    mat_list.sort()\n",
        "    temp_list = []\n",
        "    for name in mat_list[:]:\n",
        "        mat_path = os.path.join(path, name)\n",
        "        data = sio.loadmat(mat_path, squeeze_me=True, struct_as_record=False)['data']\n",
        "        if len(data.rBoxes) == 0 and len(data.rCenters) !=0:\n",
        "            temp_list.append(name)\n",
        "    return temp_list"
      ]
    },
    {
      "cell_type": "code",
      "execution_count": 20,
      "metadata": {
        "id": "e9_pWJ4lytqg"
      },
      "outputs": [],
      "source": [
        "import sys\n",
        "sys.path.append('/content/iPLAN-Interactive-and-Procedural-Layout-Planning/room_partition')\n",
        "sys.path.append('/content/iPLAN-Interactive-and-Procedural-Layout-Planning/room_partition/models')"
      ]
    },
    {
      "cell_type": "code",
      "execution_count": 21,
      "metadata": {
        "id": "VVM8XWwxytmk"
      },
      "outputs": [],
      "source": [
        "from synth.floorplan.roompartition_fp import FloorPlan\n",
        "from room_partition.utils import colorize_mask\n",
        "from room_partition import models\n",
        "import argparse"
      ]
    },
    {
      "cell_type": "code",
      "execution_count": 22,
      "metadata": {
        "colab": {
          "base_uri": "https://localhost:8080/",
          "height": 35
        },
        "id": "pYNLMwoSytg1",
        "outputId": "00c998e1-2422-48c7-fefa-0e51cd7bd9e9"
      },
      "outputs": [
        {
          "output_type": "execute_result",
          "data": {
            "text/plain": [
              "'/content/iPLAN-Interactive-and-Procedural-Layout-Planning/room_partition/models/utils'"
            ],
            "application/vnd.google.colaboratory.intrinsic+json": {
              "type": "string"
            }
          },
          "metadata": {},
          "execution_count": 22
        }
      ],
      "source": [
        "import shutil\n",
        "\n",
        "\n",
        "cartella_origine = '/content/iPLAN-Interactive-and-Procedural-Layout-Planning/room_partition/utils'\n",
        "cartella_destinazione = '/content/iPLAN-Interactive-and-Procedural-Layout-Planning/room_partition/models'\n",
        "\n",
        "shutil.move(cartella_origine, cartella_destinazione)\n"
      ]
    },
    {
      "cell_type": "code",
      "execution_count": 23,
      "metadata": {
        "id": "ZN1HnEcDytc8"
      },
      "outputs": [],
      "source": [
        "from room_partition.models.loss_layer import LossFun"
      ]
    },
    {
      "cell_type": "code",
      "execution_count": 24,
      "metadata": {
        "id": "XhywzeydzUV7"
      },
      "outputs": [],
      "source": [
        "class AttrDict(dict):\n",
        "    \"\"\"Classe wrapper per consentire l'accesso attributivo agli elementi del dizionario.\"\"\"\n",
        "\n",
        "    def __getattr__(self, name):\n",
        "        return self[name]\n",
        "\n",
        "    def __setattr__(self, name, value):\n",
        "        self[name] = value"
      ]
    },
    {
      "cell_type": "code",
      "execution_count": 25,
      "metadata": {
        "id": "OYzEfLBHzYUJ"
      },
      "outputs": [],
      "source": [
        "opt = AttrDict({\n",
        "    'load_netG_path': '/content/drive/MyDrive/Colab_Notebooks/Deep_Learning/Progetto/Model/room_partition/G_net_210.pth',\n",
        "    'max_iter': 200,\n",
        "    'gpu_ids': [0],\n",
        "    'lr': 10,\n",
        "    'coverage': 1,\n",
        "    'inside': 0.5,\n",
        "    'mutex': 0,\n",
        "    'root': '/content/iPLAN-Interactive-and-Procedural-Layout-Planning/data'\n",
        "})"
      ]
    },
    {
      "cell_type": "code",
      "execution_count": 26,
      "metadata": {
        "id": "CYAex6eAzZwQ"
      },
      "outputs": [],
      "source": [
        "from models.floorplan_rnn_test import FloorPlanRNN"
      ]
    },
    {
      "cell_type": "code",
      "execution_count": 27,
      "metadata": {
        "colab": {
          "base_uri": "https://localhost:8080/"
        },
        "id": "LHoQ3aqBzk3x",
        "outputId": "5f029a9f-3fe9-49ba-8b91-fee4e2131ff1"
      },
      "outputs": [
        {
          "output_type": "stream",
          "name": "stdout",
          "text": [
            "Building model...\n",
            "load the pretrained Mask generation model\n"
          ]
        },
        {
          "output_type": "stream",
          "name": "stderr",
          "text": [
            "/usr/local/lib/python3.10/dist-packages/torch/functional.py:504: UserWarning: torch.meshgrid: in an upcoming release, it will be required to pass the indexing argument. (Triggered internally at ../aten/src/ATen/native/TensorShape.cpp:3526.)\n",
            "  return _VF.meshgrid(tensors, **kwargs)  # type: ignore[attr-defined]\n"
          ]
        }
      ],
      "source": [
        "# step1: configure model\n",
        "print('Building model...')\n",
        "fp_rnn = FloorPlanRNN(opt)\n",
        "fp_rnn.load_networks(opt)\n",
        "criterion = LossFun(device=fp_rnn.device)"
      ]
    },
    {
      "cell_type": "code",
      "execution_count": 28,
      "metadata": {
        "colab": {
          "base_uri": "https://localhost:8080/"
        },
        "id": "An5vpx9AznBP",
        "outputId": "3aaeaf8d-4bb1-4782-d5e6-09742ea11239"
      },
      "outputs": [
        {
          "output_type": "stream",
          "name": "stdout",
          "text": [
            "Building dataset...\n",
            "The length of testing data is 11\n"
          ]
        }
      ],
      "source": [
        "# step2: data\n",
        "print('Building dataset...')\n",
        "data_root = \"/content/drive/MyDrive/Colab_Notebooks/Deep_Learning/Progetto/Risultati/LocationRoom\"\n",
        "floorplans = getListRP(data_root)\n",
        "print('The length of testing data is {}'.format(len(floorplans)))"
      ]
    },
    {
      "cell_type": "code",
      "execution_count": 29,
      "metadata": {
        "id": "OCfo0go70RAw"
      },
      "outputs": [],
      "source": [
        "def getMath(path, i ):\n",
        "  mat_list = os.listdir(path)\n",
        "  mat_list.sort()\n",
        "  temp_list = []\n",
        "  for name in mat_list[:]:\n",
        "    mat_path = os.path.join(path, name)\n",
        "    data = sio.loadmat(mat_path, squeeze_me=True, struct_as_record=False)['data']\n",
        "    data.rTypes = np.array([1])\n",
        "    if name == \"0.mat\":\n",
        "      center = []\n",
        "      center.append([58,71])\n",
        "      data.rCenters = np.array(center)\n",
        "      if i == 0: return data\n",
        "    else:\n",
        "      center = []\n",
        "      center.append([64,69])\n",
        "      data.rCenters = np.array(center)\n",
        "      if i ==1: return data"
      ]
    },
    {
      "cell_type": "code",
      "execution_count": 30,
      "metadata": {
        "id": "Q4Kde9gR0Rqs"
      },
      "outputs": [],
      "source": [
        "def get_input(mat_path):\n",
        "  data = sio.loadmat(mat_path, squeeze_me=True, struct_as_record=False)['data']\n",
        "\n",
        "  img = fp.init_input_img(fp.exterior_boundary)\n",
        "  h, w = img.shape\n",
        "  inside = np.zeros((h, h))\n",
        "  inside[img == 16] = 1\n",
        "  inside[img < 13] = 1\n",
        "  inside_mask = torch.from_numpy(inside)\n",
        "  img = torch.from_numpy(img)\n",
        "\n",
        "  #print(data.rTypes)\n",
        "  ind = data.rTypes == 0\n",
        "  # print(data.rTypes == 0)\n",
        "  ind = np.array(ind)\n",
        "  # print(ind)\n",
        "  # print(data.rCenters)\n",
        "  continue_rTypes = data.rTypes[~ind]\n",
        "  # print(continue_rTypes)\n",
        "  continue_rCenters = data.rCenters[~ind]\n",
        "  # print(continue_rCenters)\n",
        "\n",
        "  rCenters=[]\n",
        "  for i in range(len(continue_rTypes)):\n",
        "    r_c = np.zeros((128, 128))\n",
        "    c_x, c_y = continue_rCenters[i,:]\n",
        "    r_c[c_x - 1:c_x + 2, c_y - 1:c_y + 2] = 1\n",
        "    rCenters.append(r_c)\n",
        "\n",
        "  rCenters = np.stack(rCenters, 0)\n",
        "  rCenters = torch.FloatTensor(rCenters)\n",
        "\n",
        "  return img, rCenters, torch.from_numpy(continue_rTypes), inside_mask, data.Boundary"
      ]
    },
    {
      "cell_type": "code",
      "execution_count": 31,
      "metadata": {
        "colab": {
          "base_uri": "https://localhost:8080/"
        },
        "id": "htRfbguo0sRg",
        "outputId": "b23681b6-3203-4b1f-8588-36e6d21ad412"
      },
      "outputs": [
        {
          "output_type": "stream",
          "name": "stdout",
          "text": [
            "Starting to Testing...\n"
          ]
        }
      ],
      "source": [
        "# step3: testing\n",
        "Data = []\n",
        "Image = []\n",
        "print('Starting to Testing...')\n",
        "for i in range(len(floorplans)):\n",
        "  fp_name = floorplans[i]\n",
        "  fp_path = os.path.join(data_root, fp_name)\n",
        "  fp = FloorPlan(fp_path)\n",
        "  img, rCenters, rTypes, inside, boundary = get_input(fp_path)\n",
        "  fp_rnn.evaluate(img, rCenters, rTypes, inside)\n",
        "\n",
        "  boundary = boundary[:, [1, 0, 2, 3]]\n",
        "  pred_rBoxes = fp_rnn.pred_rBoxes\n",
        "  pred_rBoxes = pred_rBoxes[:, [1, 0, 3, 2]]\n",
        "\n",
        "  layout = get_image(img, pred_rBoxes, rTypes, inside)\n",
        "  living_box, layout, living_mask = obtain_living(layout, boundary)\n",
        "\n",
        "  criterion.get_initial_mutex(pred_rBoxes, boundary)\n",
        "\n",
        "  iter = 0\n",
        "  while get_ratio(layout) > 0.0005 and iter < opt.max_iter:\n",
        "      iter = iter + 1\n",
        "      pred_rBoxes = fine_turning(pred_rBoxes, boundary, living_mask, criterion, opt)\n",
        "      layout = get_image(img, pred_rBoxes, rTypes, inside, living_mask)\n",
        "  image = colorize_mask(layout.numpy())\n",
        "  Image.append(image)\n",
        "\n",
        "  fp.update_rBoxes((pred_rBoxes.detach().cpu().numpy()) * 127)\n",
        "  data = fp.to_dict()\n",
        "  Data.append(data)"
      ]
    },
    {
      "cell_type": "markdown",
      "metadata": {
        "id": "MMPIbdRe2KvD"
      },
      "source": [
        "## Risultati"
      ]
    },
    {
      "cell_type": "code",
      "execution_count": 32,
      "metadata": {
        "id": "fI_02Xvv1qsR",
        "colab": {
          "base_uri": "https://localhost:8080/"
        },
        "outputId": "e274b310-a3cd-4e92-85e9-8f8ac43b3446"
      },
      "outputs": [
        {
          "output_type": "execute_result",
          "data": {
            "text/plain": [
              "[{'name': '0',\n",
              "  'gt_rTypes': array([1, 3, 0, 7, 2, 9]),\n",
              "  'gt_rBoxes': array([[ 35,  80,  62, 110],\n",
              "         [ 35,  64,  53,  78],\n",
              "         [ 55,  13,  92, 101],\n",
              "         [ 35,  43,  62,  63],\n",
              "         [ 57,  26,  72,  41],\n",
              "         [ 63, 103,  92, 114]]),\n",
              "  'Boundary': array([[ 82,  18,   0,   0],\n",
              "         [ 82,  26,   0,   0],\n",
              "         [ 82,  43,   0,   0],\n",
              "         [ 92,  43,   0,   0],\n",
              "         [ 92, 114,   0,   0],\n",
              "         [ 63, 114,   1,   0],\n",
              "         [ 63, 110,   0,   0],\n",
              "         [ 35, 110,   1,   0],\n",
              "         [ 35,  43,   0,   0],\n",
              "         [ 57,  43,   1,   0],\n",
              "         [ 57,  26,   0,   0],\n",
              "         [ 73,  26,   1,   0],\n",
              "         [ 73,  13,   0,   0],\n",
              "         [ 82,  13,   0,   0]]),\n",
              "  'rTypes': array([0, 1, 2, 3, 7, 9, 9]),\n",
              "  'rBoxes': array([[ 82,  34, 111,  60],\n",
              "         [ 25,  56,  41,  77],\n",
              "         [ 70,  34,  81,  47],\n",
              "         [ 42,  34,  69,  54],\n",
              "         [105,  62, 114,  92],\n",
              "         [ 12,  71,  25,  82]]),\n",
              "  'rCenters': array([[ 71,  70],\n",
              "         [ 47,  96],\n",
              "         [ 67,  33],\n",
              "         [ 41,  76],\n",
              "         [ 45,  55],\n",
              "         [ 77, 109],\n",
              "         [ 76,  20]])},\n",
              " {'name': '1',\n",
              "  'gt_rTypes': array([1, 5, 7, 2, 3, 9, 0]),\n",
              "  'gt_rBoxes': array([[ 72,  67, 106,  97],\n",
              "         [ 52,  67,  70,  97],\n",
              "         [ 21,  67,  50,  97],\n",
              "         [ 21,  24,  36,  42],\n",
              "         [ 37,  27,  50,  36],\n",
              "         [ 72,  99, 106, 103],\n",
              "         [ 21,  27, 106,  65]]),\n",
              "  'Boundary': array([[101,  59,   0,   0],\n",
              "         [106,  59,   0,   0],\n",
              "         [106, 103,   0,   0],\n",
              "         [ 72, 103,   1,   0],\n",
              "         [ 72,  97,   0,   0],\n",
              "         [ 21,  97,   1,   0],\n",
              "         [ 21,  24,   0,   0],\n",
              "         [ 36,  24,   0,   0],\n",
              "         [ 36,  27,   0,   0],\n",
              "         [100,  27,   0,   0],\n",
              "         [100,  59,   0,   0]]),\n",
              "  'rTypes': array([0, 1, 2, 3, 7, 9]),\n",
              "  'rBoxes': array([[ 26,  68,  53,  99],\n",
              "         [ 51,  20,  73,  35],\n",
              "         [ 26,  46,  39,  63],\n",
              "         [ 24,  20,  50,  44],\n",
              "         [ 59, 100, 102, 106]]),\n",
              "  'rCenters': array([[ 69,  70],\n",
              "         [ 84,  40],\n",
              "         [ 28,  62],\n",
              "         [ 55,  33],\n",
              "         [ 32,  37],\n",
              "         [103,  81]])},\n",
              " {'name': '8',\n",
              "  'gt_rTypes': array([2, 7, 3, 1, 0, 9]),\n",
              "  'gt_rBoxes': array([[ 46,  11,  59,  42],\n",
              "         [ 62,  11,  82,  42],\n",
              "         [ 79,  45,  93,  71],\n",
              "         [ 68,  75,  93, 104],\n",
              "         [ 34,  45,  76, 104],\n",
              "         [ 34, 107,  56, 116]]),\n",
              "  'Boundary': array([[ 51,  55,   1,   0],\n",
              "         [ 51,  48,   1,   0],\n",
              "         [ 51,  42,   0,   0],\n",
              "         [ 46,  42,   1,   0],\n",
              "         [ 46,  11,   0,   0],\n",
              "         [ 82,  11,   0,   0],\n",
              "         [ 82,  45,   0,   0],\n",
              "         [ 93,  45,   0,   0],\n",
              "         [ 93, 104,   0,   0],\n",
              "         [ 56, 104,   0,   0],\n",
              "         [ 56, 116,   0,   0],\n",
              "         [ 34, 116,   1,   0],\n",
              "         [ 34,  73,   0,   0],\n",
              "         [ 51,  73,   1,   0]]),\n",
              "  'rTypes': array([0, 1, 2, 3, 7, 9]),\n",
              "  'rBoxes': array([[ 11,  45,  41,  83],\n",
              "         [ 78,  77, 104,  93],\n",
              "         [ 85,  56, 104,  71],\n",
              "         [ 83,  33, 115,  55],\n",
              "         [ 44,  85,  73,  92]]),\n",
              "  'rCenters': array([[66, 66],\n",
              "         [64, 26],\n",
              "         [85, 92],\n",
              "         [63, 95],\n",
              "         [44, 99],\n",
              "         [89, 59]])},\n",
              " {'name': '9',\n",
              "  'gt_rTypes': array([7, 0, 3, 2, 9, 3, 1]),\n",
              "  'gt_rBoxes': array([[ 59,  12,  82,  39],\n",
              "         [ 38,  40,  64, 115],\n",
              "         [ 66,  40,  82,  55],\n",
              "         [ 66,  57,  89,  72],\n",
              "         [ 84,  40,  89,  55],\n",
              "         [ 76,  74,  89,  87],\n",
              "         [ 66,  74,  89, 115]]),\n",
              "  'Boundary': array([[ 38,  51,   0,   0],\n",
              "         [ 44,  51,   0,   0],\n",
              "         [ 59,  51,   1,   0],\n",
              "         [ 59,  12,   0,   0],\n",
              "         [ 82,  12,   0,   0],\n",
              "         [ 82,  40,   0,   0],\n",
              "         [ 89,  40,   0,   0],\n",
              "         [ 89, 115,   0,   0],\n",
              "         [ 38, 115,   1,   0]]),\n",
              "  'rTypes': array([0, 1, 2, 3, 7, 9]),\n",
              "  'rBoxes': array([[ 12,  58,  41,  82],\n",
              "         [ 50,  38,  80,  50],\n",
              "         [ 79,  37,  91,  50],\n",
              "         [ 92,  37, 115,  61],\n",
              "         [103,  62, 115,  88]]),\n",
              "  'rCenters': array([[ 69,  71],\n",
              "         [ 70,  26],\n",
              "         [ 44,  66],\n",
              "         [ 44,  84],\n",
              "         [ 48, 104],\n",
              "         [ 76, 108]])},\n",
              " {'name': '10',\n",
              "  'gt_rTypes': array([0, 2, 3, 7, 1, 1]),\n",
              "  'gt_rBoxes': array([[ 31,  24,  70,  82],\n",
              "         [ 71,  24,  96,  35],\n",
              "         [ 71,  36,  96,  46],\n",
              "         [ 71,  48,  96,  72],\n",
              "         [ 71,  74,  96, 103],\n",
              "         [ 31,  74,  60, 103]]),\n",
              "  'Boundary': array([[ 31,  31,   1,   0],\n",
              "         [ 31,  24,   0,   0],\n",
              "         [ 96,  24,   0,   0],\n",
              "         [ 96, 103,   0,   0],\n",
              "         [ 71, 103,   1,   0],\n",
              "         [ 71,  82,   0,   0],\n",
              "         [ 60,  82,   0,   0],\n",
              "         [ 60, 103,   0,   0],\n",
              "         [ 31, 103,   1,   0]]),\n",
              "  'rTypes': array([0, 1, 2, 3, 7, 9]),\n",
              "  'rBoxes': array([[ 23,  66,  50,  95],\n",
              "         [ 23,  31,  44,  49],\n",
              "         [ 24,  50,  38,  66],\n",
              "         [ 82,  31, 103,  60],\n",
              "         [ 83,  70, 102,  96]]),\n",
              "  'rCenters': array([[64, 61],\n",
              "         [81, 37],\n",
              "         [40, 34],\n",
              "         [58, 31],\n",
              "         [45, 93],\n",
              "         [83, 93]])},\n",
              " {'name': '2',\n",
              "  'gt_rTypes': array([3, 2, 7, 1, 8, 0, 9]),\n",
              "  'gt_rBoxes': array([[ 81,  11,  94,  30],\n",
              "         [ 33,  11,  48,  38],\n",
              "         [ 59,  82,  86, 105],\n",
              "         [ 33,  73,  56, 105],\n",
              "         [ 33,  41,  56,  70],\n",
              "         [ 51,  11,  86,  79],\n",
              "         [ 59, 107,  86, 116]]),\n",
              "  'Boundary': array([[ 86,  32,   0,   0],\n",
              "         [ 86,  40,   0,   0],\n",
              "         [ 86, 116,   0,   0],\n",
              "         [ 59, 116,   1,   0],\n",
              "         [ 59, 105,   0,   0],\n",
              "         [ 33, 105,   1,   0],\n",
              "         [ 33,  11,   0,   0],\n",
              "         [ 94,  11,   0,   0],\n",
              "         [ 94,  30,   0,   0],\n",
              "         [ 86,  30,   0,   0]]),\n",
              "  'rTypes': array([0, 1, 2, 3, 3, 7, 9]),\n",
              "  'rBoxes': array([[ 10,  32,  40,  66],\n",
              "         [ 11,  65,  29,  94],\n",
              "         [ 30,  67,  46,  87],\n",
              "         [ 46,  68,  59,  85],\n",
              "         [ 75,  33, 105,  55],\n",
              "         [106,  58, 116,  86]]),\n",
              "  'rCenters': array([[ 58,  64],\n",
              "         [ 48,  25],\n",
              "         [ 78,  19],\n",
              "         [ 78,  38],\n",
              "         [ 77,  53],\n",
              "         [ 44,  91],\n",
              "         [ 72, 111]])},\n",
              " {'name': '3',\n",
              "  'gt_rTypes': array([7, 1, 0, 2, 3, 5, 9]),\n",
              "  'gt_rBoxes': array([[ 34,  64,  56,  82],\n",
              "         [ 34,  85,  56, 110],\n",
              "         [ 58,  39,  93,  99],\n",
              "         [ 44,  47,  57,  61],\n",
              "         [ 44,  35,  57,  45],\n",
              "         [ 44,  17,  65,  38],\n",
              "         [ 59, 102,  86, 111]]),\n",
              "  'Boundary': array([[ 93,  51,   0,   0],\n",
              "         [ 93,  59,   0,   0],\n",
              "         [ 93,  60,   0,   0],\n",
              "         [ 86,  60,   0,   0],\n",
              "         [ 86, 111,   0,   0],\n",
              "         [ 58, 111,   1,   0],\n",
              "         [ 58, 110,   0,   0],\n",
              "         [ 34, 110,   1,   0],\n",
              "         [ 34,  64,   0,   0],\n",
              "         [ 44,  64,   1,   0],\n",
              "         [ 44,  17,   0,   0],\n",
              "         [ 65,  17,   0,   0],\n",
              "         [ 65,  51,   0,   0]]),\n",
              "  'rTypes': array([0, 1, 2, 3, 7, 9]),\n",
              "  'rBoxes': array([[ 16,  43,  47,  64],\n",
              "         [ 63,  34,  79,  47],\n",
              "         [ 49,  44,  62,  56],\n",
              "         [ 79,  33, 110,  56],\n",
              "         [103,  58, 111,  85]]),\n",
              "  'rCenters': array([[ 67,  73],\n",
              "         [ 54,  32],\n",
              "         [ 41,  71],\n",
              "         [ 50,  56],\n",
              "         [ 45,  95],\n",
              "         [ 72, 107]])},\n",
              " {'name': '4',\n",
              "  'gt_rTypes': array([1, 7, 9, 0, 3, 2]),\n",
              "  'gt_rBoxes': array([[ 43,  64,  67,  91],\n",
              "         [ 69,  64,  93,  91],\n",
              "         [ 69,  93,  93, 101],\n",
              "         [ 34,  26,  93,  63],\n",
              "         [ 34,  26,  52,  36],\n",
              "         [ 73,  26,  93,  39]]),\n",
              "  'Boundary': array([[ 40,  63,   0,   0],\n",
              "         [ 34,  63,   1,   0],\n",
              "         [ 34,  26,   0,   0],\n",
              "         [ 93,  26,   0,   0],\n",
              "         [ 93, 101,   0,   0],\n",
              "         [ 69, 101,   1,   0],\n",
              "         [ 69,  91,   0,   0],\n",
              "         [ 43,  91,   1,   0],\n",
              "         [ 43,  63,   0,   0]]),\n",
              "  'rTypes': array([0, 1, 2, 3, 7, 9]),\n",
              "  'rBoxes': array([[ 63,  43,  91,  65],\n",
              "         [ 25,  79,  44,  93],\n",
              "         [ 48,  33,  63,  46],\n",
              "         [ 26,  33,  47,  55],\n",
              "         [ 92,  69, 100,  92]]),\n",
              "  'rCenters': array([[71, 62],\n",
              "         [54, 78],\n",
              "         [86, 35],\n",
              "         [40, 56],\n",
              "         [45, 36],\n",
              "         [81, 97]])},\n",
              " {'name': '5',\n",
              "  'gt_rTypes': array([1, 5, 3, 6, 0, 2]),\n",
              "  'gt_rBoxes': array([[ 26,  81,  60, 101],\n",
              "         [ 26,  26,  60,  46],\n",
              "         [ 57,  26,  72,  37],\n",
              "         [ 74,  26,  98,  46],\n",
              "         [ 21,  39,  98,  84],\n",
              "         [ 77,  68, 106,  84]]),\n",
              "  'Boundary': array([[ 72,  84,   0,   0],\n",
              "         [ 65,  84,   0,   0],\n",
              "         [ 60,  84,   0,   0],\n",
              "         [ 60, 101,   0,   0],\n",
              "         [ 26, 101,   1,   0],\n",
              "         [ 26,  74,   0,   0],\n",
              "         [ 21,  74,   1,   0],\n",
              "         [ 21,  52,   0,   0],\n",
              "         [ 26,  52,   1,   0],\n",
              "         [ 26,  26,   0,   0],\n",
              "         [ 98,  26,   0,   0],\n",
              "         [ 98,  68,   0,   0],\n",
              "         [106,  68,   0,   0],\n",
              "         [106,  84,   0,   0]]),\n",
              "  'rTypes': array([0, 1, 2, 3, 7, 9]),\n",
              "  'rBoxes': array([[ 75,  25, 101,  60],\n",
              "         [ 68,  82,  84, 106],\n",
              "         [ 51,  84,  67,  98],\n",
              "         [ 25,  74,  50,  97],\n",
              "         [ 50,  20,  75,  26]]),\n",
              "  'rCenters': array([[63, 57],\n",
              "         [43, 88],\n",
              "         [94, 76],\n",
              "         [91, 59],\n",
              "         [86, 38],\n",
              "         [24, 63]])},\n",
              " {'name': '6',\n",
              "  'gt_rTypes': array([9, 7, 1, 3, 6, 2, 0]),\n",
              "  'gt_rBoxes': array([[ 48,  98,  69, 103],\n",
              "         [ 48,  72,  69,  96],\n",
              "         [ 72,  72,  94,  98],\n",
              "         [ 79,  56,  94,  69],\n",
              "         [ 61,  46,  79,  60],\n",
              "         [ 61,  29,  79,  43],\n",
              "         [ 33,  24,  77,  69]]),\n",
              "  'Boundary': array([[ 50,  24,   0,   0],\n",
              "         [ 58,  24,   0,   0],\n",
              "         [ 58,  29,   0,   0],\n",
              "         [ 79,  29,   0,   0],\n",
              "         [ 79,  56,   0,   0],\n",
              "         [ 94,  56,   0,   0],\n",
              "         [ 94,  98,   0,   0],\n",
              "         [ 69,  98,   0,   0],\n",
              "         [ 69, 103,   0,   0],\n",
              "         [ 48, 103,   1,   0],\n",
              "         [ 48,  69,   0,   0],\n",
              "         [ 33,  69,   1,   0],\n",
              "         [ 33,  27,   0,   0],\n",
              "         [ 48,  27,   1,   0],\n",
              "         [ 48,  24,   0,   0]]),\n",
              "  'rTypes': array([0, 1, 2, 3, 7, 9]),\n",
              "  'rBoxes': array([[ 69,  71,  98,  94],\n",
              "         [ 28,  61,  49,  78],\n",
              "         [ 56,  80,  69,  93],\n",
              "         [ 24,  32,  46,  59],\n",
              "         [ 97,  47, 103,  69]]),\n",
              "  'rCenters': array([[ 62,  63],\n",
              "         [ 83,  84],\n",
              "         [ 70,  39],\n",
              "         [ 87,  63],\n",
              "         [ 46,  36],\n",
              "         [ 59, 100]])},\n",
              " {'name': '7',\n",
              "  'gt_rTypes': array([1, 3, 7, 9, 2, 7, 9, 0]),\n",
              "  'gt_rBoxes': array([[ 20,  63,  43,  98],\n",
              "         [ 20,  63,  35,  73],\n",
              "         [ 36,  31,  56,  53],\n",
              "         [ 27,  49,  35,  61],\n",
              "         [ 76,  25,  88,  53],\n",
              "         [ 90,  31, 107,  53],\n",
              "         [ 45,  94,  73, 102],\n",
              "         [ 36,  31,  97,  92]]),\n",
              "  'Boundary': array([[ 97,  55,   0,   0],\n",
              "         [ 97,  61,   0,   0],\n",
              "         [ 73,  61,   0,   0],\n",
              "         [ 73, 102,   0,   0],\n",
              "         [ 45, 102,   1,   0],\n",
              "         [ 45,  98,   0,   0],\n",
              "         [ 20,  98,   1,   0],\n",
              "         [ 20,  63,   0,   0],\n",
              "         [ 27,  63,   1,   0],\n",
              "         [ 27,  49,   0,   0],\n",
              "         [ 36,  49,   1,   0],\n",
              "         [ 36,  31,   0,   0],\n",
              "         [ 76,  31,   1,   0],\n",
              "         [ 76,  25,   0,   0],\n",
              "         [ 88,  25,   0,   0],\n",
              "         [ 88,  31,   0,   0],\n",
              "         [107,  31,   0,   0],\n",
              "         [107,  53,   0,   0],\n",
              "         [ 97,  53,   0,   0]]),\n",
              "  'rTypes': array([0, 1, 2, 3, 7, 9]),\n",
              "  'rBoxes': array([[ 31,  74,  63, 101],\n",
              "         [ 44,  26,  59,  44],\n",
              "         [ 60,  19,  73,  38],\n",
              "         [ 74,  20,  98,  42],\n",
              "         [ 25,  71,  33,  89]]),\n",
              "  'rCenters': array([[58, 67],\n",
              "         [88, 48],\n",
              "         [35, 52],\n",
              "         [29, 68],\n",
              "         [31, 87],\n",
              "         [79, 29]])}]"
            ]
          },
          "metadata": {},
          "execution_count": 32
        }
      ],
      "source": [
        "Data"
      ]
    },
    {
      "cell_type": "code",
      "execution_count": 43,
      "metadata": {
        "colab": {
          "base_uri": "https://localhost:8080/",
          "height": 145
        },
        "id": "sBdZayon2P6B",
        "outputId": "63e4deba-a3e0-44f3-b885-e8da950eaf26"
      },
      "outputs": [
        {
          "output_type": "execute_result",
          "data": {
            "text/plain": [
              "<PIL.Image.Image image mode=RGB size=128x128>"
            ],
            "image/png": "[encoded data removed]"
          },
          "metadata": {},
          "execution_count": 43
        }
      ],
      "source": [
        "Image[0]"
      ]
    },
    {
      "cell_type": "code",
      "source": [
        "Image[1]"
      ],
      "metadata": {
        "colab": {
          "base_uri": "https://localhost:8080/",
          "height": 145
        },
        "id": "ErMP-UoK0Q_U",
        "outputId": "ef89da5d-bc2c-4500-99c6-693325396609"
      },
      "execution_count": 44,
      "outputs": [
        {
          "output_type": "execute_result",
          "data": {
            "text/plain": [
              "<PIL.Image.Image image mode=RGB size=128x128>"
            ],
            "image/png": "[encoded data removed]"
          },
          "metadata": {},
          "execution_count": 44
        }
      ]
    },
    {
      "cell_type": "code",
      "source": [
        "Image[2]"
      ],
      "metadata": {
        "colab": {
          "base_uri": "https://localhost:8080/",
          "height": 145
        },
        "id": "4M3Hrp4r0Q9Z",
        "outputId": "9ece703f-6b29-4746-b14f-46e18968cc6e"
      },
      "execution_count": 45,
      "outputs": [
        {
          "output_type": "execute_result",
          "data": {
            "text/plain": [
              "<PIL.Image.Image image mode=RGB size=128x128>"
            ],
            "image/png": "[encoded data removed]"
          },
          "metadata": {},
          "execution_count": 45
        }
      ]
    },
    {
      "cell_type": "code",
      "source": [
        "Image[3]"
      ],
      "metadata": {
        "colab": {
          "base_uri": "https://localhost:8080/",
          "height": 145
        },
        "id": "-B2t0kgS0Q75",
        "outputId": "48686971-6685-4266-c24a-32c39020f3f4"
      },
      "execution_count": 46,
      "outputs": [
        {
          "output_type": "execute_result",
          "data": {
            "text/plain": [
              "<PIL.Image.Image image mode=RGB size=128x128>"
            ],
            "image/png": "[encoded data removed]"
          },
          "metadata": {},
          "execution_count": 46
        }
      ]
    },
    {
      "cell_type": "code",
      "source": [
        "Image[4]"
      ],
      "metadata": {
        "colab": {
          "base_uri": "https://localhost:8080/",
          "height": 145
        },
        "id": "Am6o7DV70Q5j",
        "outputId": "70e96580-4836-4fdc-e68d-0d4399ed2ab5"
      },
      "execution_count": 47,
      "outputs": [
        {
          "output_type": "execute_result",
          "data": {
            "text/plain": [
              "<PIL.Image.Image image mode=RGB size=128x128>"
            ],
            "image/png": "[encoded data removed]"
          },
          "metadata": {},
          "execution_count": 47
        }
      ]
    },
    {
      "cell_type": "code",
      "source": [
        "Image[5]"
      ],
      "metadata": {
        "colab": {
          "base_uri": "https://localhost:8080/",
          "height": 145
        },
        "id": "2YrNKTT80Q3_",
        "outputId": "2521b097-2867-4d11-ae01-83680feeea7f"
      },
      "execution_count": 48,
      "outputs": [
        {
          "output_type": "execute_result",
          "data": {
            "text/plain": [
              "<PIL.Image.Image image mode=RGB size=128x128>"
            ],
            "image/png": "[encoded data removed]"
          },
          "metadata": {},
          "execution_count": 48
        }
      ]
    },
    {
      "cell_type": "code",
      "source": [
        "Image[6]"
      ],
      "metadata": {
        "colab": {
          "base_uri": "https://localhost:8080/",
          "height": 145
        },
        "id": "XzUMHq1m0Q1Y",
        "outputId": "f8aae25a-38ab-4992-ff3f-6d8ee9a3f0c7"
      },
      "execution_count": 49,
      "outputs": [
        {
          "output_type": "execute_result",
          "data": {
            "text/plain": [
              "<PIL.Image.Image image mode=RGB size=128x128>"
            ],
            "image/png": "[encoded data removed]"
          },
          "metadata": {},
          "execution_count": 49
        }
      ]
    },
    {
      "cell_type": "code",
      "source": [
        "Image[7]"
      ],
      "metadata": {
        "colab": {
          "base_uri": "https://localhost:8080/",
          "height": 145
        },
        "id": "FDkv-RYQ0Qzi",
        "outputId": "84e519b1-0e2a-4810-a757-163ab7a1e417"
      },
      "execution_count": 50,
      "outputs": [
        {
          "output_type": "execute_result",
          "data": {
            "text/plain": [
              "<PIL.Image.Image image mode=RGB size=128x128>"
            ],
            "image/png": "[encoded data removed]"
          },
          "metadata": {},
          "execution_count": 50
        }
      ]
    },
    {
      "cell_type": "code",
      "source": [
        "Image[8]"
      ],
      "metadata": {
        "colab": {
          "base_uri": "https://localhost:8080/",
          "height": 145
        },
        "id": "LrAJEzqt0Qxd",
        "outputId": "b6ffeb67-3fb7-4388-9e68-12098779643c"
      },
      "execution_count": 51,
      "outputs": [
        {
          "output_type": "execute_result",
          "data": {
            "text/plain": [
              "<PIL.Image.Image image mode=RGB size=128x128>"
            ],
            "image/png": "[encoded data removed]"
          },
          "metadata": {},
          "execution_count": 51
        }
      ]
    },
    {
      "cell_type": "code",
      "source": [
        "Image[9]"
      ],
      "metadata": {
        "colab": {
          "base_uri": "https://localhost:8080/",
          "height": 145
        },
        "id": "UNKGvxjs0Qu0",
        "outputId": "0216d2ac-e1ff-43d2-ca0b-06fdd4041c32"
      },
      "execution_count": 52,
      "outputs": [
        {
          "output_type": "execute_result",
          "data": {
            "text/plain": [
              "<PIL.Image.Image image mode=RGB size=128x128>"
            ],
            "image/png": "[encoded data removed]"
          },
          "metadata": {},
          "execution_count": 52
        }
      ]
    },
    {
      "cell_type": "code",
      "source": [
        "Image[10]"
      ],
      "metadata": {
        "colab": {
          "base_uri": "https://localhost:8080/",
          "height": 145
        },
        "id": "BP5bEdPN0Qqc",
        "outputId": "2e4cb524-bd8c-4f37-88b9-87b81a0f0bea"
      },
      "execution_count": 53,
      "outputs": [
        {
          "output_type": "execute_result",
          "data": {
            "text/plain": [
              "<PIL.Image.Image image mode=RGB size=128x128>"
            ],
            "image/png": "[encoded data removed]"
          },
          "metadata": {},
          "execution_count": 53
        }
      ]
    },
    {
      "cell_type": "markdown",
      "metadata": {
        "id": "WNlZxBpE2LLt"
      },
      "source": [
        "## SALVATAGGIO DATI"
      ]
    },
    {
      "cell_type": "code",
      "execution_count": 54,
      "metadata": {
        "id": "zrh2v2--2L29"
      },
      "outputs": [],
      "source": [
        "for i in range(len(Data)):\n",
        "  sio.savemat(f\"/content/drive/MyDrive/Colab_Notebooks/Deep_Learning/Progetto/Risultati/RoomPartition/{i}.mat\", {\"data\" : Data[i]})\n"
      ]
    },
    {
      "cell_type": "code",
      "source": [
        "for img in range(len(Image)):\n",
        "  Image[img].save(f\"/content/drive/MyDrive/Colab_Notebooks/Deep_Learning/Progetto/Risultati/Output/img{img}.png\")"
      ],
      "metadata": {
        "id": "0F4XwkSyyGkY"
      },
      "execution_count": 55,
      "outputs": []
    }
  ],
  "metadata": {
    "accelerator": "GPU",
    "colab": {
      "provenance": []
    },
    "kernelspec": {
      "display_name": "Python 3",
      "name": "python3"
    },
    "language_info": {
      "name": "python"
    }
  },
  "nbformat": 4,
  "nbformat_minor": 0
}