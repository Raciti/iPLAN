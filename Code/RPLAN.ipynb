{
  "nbformat": 4,
  "nbformat_minor": 0,
  "metadata": {
    "colab": {
      "provenance": []
    },
    "kernelspec": {
      "name": "python3",
      "display_name": "Python 3"
    },
    "language_info": {
      "name": "python"
    }
  },
  "cells": [
    {
      "cell_type": "code",
      "execution_count": null,
      "metadata": {
        "colab": {
          "base_uri": "https://localhost:8080/"
        },
        "id": "p_XzwmdndcU8",
        "outputId": "00ad783c-a79f-4749-cac0-e1434fb584aa"
      },
      "outputs": [
        {
          "output_type": "stream",
          "name": "stdout",
          "text": [
            "Mounted at /content/drive/\n",
            "Cloning into 'RPLAN-Toolbox'...\n",
            "remote: Enumerating objects: 55, done.\u001b[K\n",
            "remote: Counting objects: 100% (55/55), done.\u001b[K\n",
            "remote: Compressing objects: 100% (41/41), done.\u001b[K\n",
            "remote: Total 55 (delta 16), reused 45 (delta 11), pack-reused 0\u001b[K\n",
            "Receiving objects: 100% (55/55), 53.36 KiB | 3.81 MiB/s, done.\n",
            "Resolving deltas: 100% (16/16), done.\n"
          ]
        }
      ],
      "source": [
        "from google.colab import drive\n",
        "drive.mount('/content/drive/')\n",
        "\n",
        "!git clone https://github.com/zzilch/RPLAN-Toolbox\n",
        "\n"
      ]
    },
    {
      "cell_type": "markdown",
      "source": [
        "# Modifiche\n",
        "\n",
        "Nel file floorplan.py, presente nella cartella rplna, bisonga modificare il codice alla riga 208, eliminando un [0], il codice diventa:\n",
        "    \n",
        "    c = stats.mode(self.category[region.coords[:,0],region.coords[:,1]])[0]\n"
      ],
      "metadata": {
        "id": "ptMUBzJQmLLI"
      }
    },
    {
      "cell_type": "markdown",
      "source": [
        "# Modifiche\n",
        "Per omologare il formato to_dict a quello utilizzato in iPLAN, si deve modificare il file da\n",
        "\n",
        "    def to_dict(self,xyxy=True,dtype=int):\n",
        "          '''\n",
        "          Compress data, notice:\n",
        "          !!! int->uint8: a(uint8)+b(uint8) may overflow !!!\n",
        "          '''\n",
        "          return {\n",
        "              'name'      :self.name,\n",
        "              'types'     :self.rooms[:,-1].astype(dtype),\n",
        "              'boxes'     :(self.rooms[:,[1,0,3,2]]).astype(dtype)\n",
        "              if xyxy else self.rooms[:,:4].astype(dtype),\n",
        "              'boundary'  :self.exterior_boundary[:,[1,0,2,3]].astype(dtype)\n",
        "              if xyxy else self.exterior_boundary.astype(dtype),\n",
        "              'edges'     :self.edges.astype(dtype)\n",
        "          }\n",
        "\n",
        "a\n",
        "\n",
        "    def to_dict(self,xyxy=True,dtype=int):\n",
        "        '''\n",
        "        Compress data, notice:\n",
        "        !!! int->uint8: a(uint8)+b(uint8) may overflow !!!\n",
        "        '''\n",
        "        return {\n",
        "            'name': self.name,\n",
        "            'gt_rTypes': self.rooms[:,-1].astype(dtype),\n",
        "            'gt_rBoxes': (self.rooms[:,[1,0,3,2]]).astype(dtype)\n",
        "            if xyxy else self.rooms[:,:4].astype(dtype),\n",
        "            'Boundary': self.exterior_boundary[:,[1,0,2,3]].astype(dtype)\n",
        "            if xyxy else self.exterior_boundary.astype(dtype),\n",
        "            'rTypes' : np.array([]).astype(dtype),\n",
        "            'rBoxes' : np.array([]).astype(dtype),\n",
        "            'rCenters' : np.array([]).astype(dtype)\n",
        "        }\n",
        "\n",
        "\n",
        "Per ovviare al problema che il modello iPLAN prende solo immagini 128×128 la funzione veine modificata ulteriormente in:\n",
        "\n",
        "    def to_dict(self, xyxy=True, dtype=int):\n",
        "        '''\n",
        "        Compress data, notice:\n",
        "        !!! int->uint8: a(uint8)+b(uint8) may overflow !!!\n",
        "        '''\n",
        "        return {\n",
        "            'name': self.name,\n",
        "            'gt_rTypes': self.rooms[:, -1].astype(dtype),\n",
        "            'gt_rBoxes': ((self.rooms[:, [1, 0, 3, 2]]).astype(dtype) / 255) * 127\n",
        "                          if xyxy else (self.rooms[:, :4].astype(dtype) / 255) * 127,\n",
        "            'Boundary': (self.exterior_boundary[:, [1, 0, 2, 3]].astype(dtype) / 255) * 127\n",
        "                          if xyxy else (self.exterior_boundary.astype(dtype) / 255) * 127,\n",
        "            'rTypes': np.array([]).astype(dtype),\n",
        "            'rBoxes': np.array([]).astype(dtype),\n",
        "            'rCenters': np.array([]).astype(dtype)\n",
        "        }\n"
      ],
      "metadata": {
        "id": "dqJFxxk2nBJT"
      }
    },
    {
      "cell_type": "code",
      "source": [
        "import os\n",
        "print(\"Directory di lavoro corrente:\", os.getcwd())\n",
        "RPLAN_directory = '/content/RPLAN-Toolbox/'\n",
        "os.chdir(RPLAN_directory)\n",
        "print(\"Nuova directory di lavoro:\", os.getcwd())\n",
        "from rplan.floorplan import Floorplan"
      ],
      "metadata": {
        "colab": {
          "base_uri": "https://localhost:8080/"
        },
        "id": "O-3B9Cb9eBba",
        "outputId": "6f2152a4-25fd-4687-fd01-f475ad84b3e7"
      },
      "execution_count": null,
      "outputs": [
        {
          "output_type": "stream",
          "name": "stdout",
          "text": [
            "Directory di lavoro corrente: /content\n",
            "Nuova directory di lavoro: /content/RPLAN-Toolbox\n"
          ]
        }
      ]
    },
    {
      "cell_type": "code",
      "source": [
        "from pathlib import Path\n",
        "import scipy.io as sio"
      ],
      "metadata": {
        "id": "P2I9-RkMofKc"
      },
      "execution_count": null,
      "outputs": []
    },
    {
      "cell_type": "code",
      "source": [
        "RPLAN_DIR = Path(\"/content/drive/MyDrive/Colab_Notebooks/Deep_Learning/Progetto/Input/Input_resize\")\n",
        "for mat in RPLAN_DIR.iterdir():\n",
        "  number = str(mat).split('/')[-1].split('.')[0]\n",
        "  fp = Floorplan(str(mat))\n",
        "  data = fp.to_dict()\n",
        "  sio.savemat(f\"/content/drive/MyDrive/Colab_Notebooks/Deep_Learning/Progetto/Data/{number}.mat\", {\"data\" : data})\n"
      ],
      "metadata": {
        "id": "H2i0_SP9olXl"
      },
      "execution_count": null,
      "outputs": []
    },
    {
      "cell_type": "code",
      "source": [
        "data = fp.to_dict()\n",
        "data"
      ],
      "metadata": {
        "colab": {
          "base_uri": "https://localhost:8080/"
        },
        "id": "cUELqMNVmknz",
        "outputId": "2104d457-f28c-464d-b68f-53c1bdc8528d"
      },
      "execution_count": null,
      "outputs": [
        {
          "output_type": "execute_result",
          "data": {
            "text/plain": [
              "{'name': '2',\n",
              " 'gt_rTypes': array([3, 2, 7, 1, 8, 0, 9]),\n",
              " 'gt_rBoxes': array([[ 81.18039216,  11.45490196,  94.62745098,  30.38039216],\n",
              "        [ 33.36862745,  11.45490196,  48.80784314,  38.84705882],\n",
              "        [ 59.26666667,  82.17647059,  86.16078431, 105.08627451],\n",
              "        [ 33.36862745,  73.21176471,  56.77647059, 105.08627451],\n",
              "        [ 33.36862745,  41.3372549 ,  56.77647059,  70.72156863],\n",
              "        [ 51.29803922,  11.45490196,  86.16078431,  79.68627451],\n",
              "        [ 59.26666667, 107.57647059,  86.16078431, 116.54117647]]),\n",
              " 'Boundary': array([[ 86.16078431,  32.37254902,   0.49803922,   0.49803922],\n",
              "        [ 86.16078431,  40.83921569,   0.49803922,   0.49803922],\n",
              "        [ 86.16078431, 116.54117647,   0.99607843,   0.        ],\n",
              "        [ 59.26666667, 116.54117647,   1.49411765,   0.        ],\n",
              "        [ 59.26666667, 105.08627451,   0.99607843,   0.        ],\n",
              "        [ 33.36862745, 105.08627451,   1.49411765,   0.        ],\n",
              "        [ 33.36862745,  11.45490196,   0.        ,   0.        ],\n",
              "        [ 94.62745098,  11.45490196,   0.49803922,   0.        ],\n",
              "        [ 94.62745098,  30.38039216,   0.99607843,   0.        ],\n",
              "        [ 86.16078431,  30.38039216,   0.49803922,   0.        ]]),\n",
              " 'rTypes': array([], dtype=int64),\n",
              " 'rBoxes': array([], dtype=int64),\n",
              " 'rCenters': array([], dtype=int64)}"
            ]
          },
          "metadata": {},
          "execution_count": 4
        }
      ]
    },
    {
      "cell_type": "code",
      "source": [
        "import numpy as np"
      ],
      "metadata": {
        "id": "h1zDxiCbqlE0"
      },
      "execution_count": null,
      "outputs": []
    },
    {
      "cell_type": "code",
      "source": [
        "def getList(path):\n",
        "  mat_list = os.listdir(path)\n",
        "  mat_list.sort()\n",
        "  temp_list = []\n",
        "  for name in mat_list[:]:\n",
        "      mat_path = os.path.join(path, name)\n",
        "      data = sio.loadmat(mat_path, squeeze_me=True, struct_as_record=False)['data']\n",
        "      if type(data.rTypes) is not np.ndarray or len(data.rTypes) == 0:\n",
        "          temp_list.append(name)\n",
        "\n",
        "  return temp_list"
      ],
      "metadata": {
        "id": "ENYe9-KOfc96"
      },
      "execution_count": null,
      "outputs": []
    },
    {
      "cell_type": "code",
      "source": [
        "data_root = \"/content/drive/MyDrive/Colab_Notebooks/Deep_Learning/Progetto/Data\"\n",
        "floorplans = getList(data_root)"
      ],
      "metadata": {
        "id": "UWmOCwXCqHTC"
      },
      "execution_count": null,
      "outputs": []
    },
    {
      "cell_type": "code",
      "source": [
        "floorplans"
      ],
      "metadata": {
        "colab": {
          "base_uri": "https://localhost:8080/"
        },
        "id": "lBaMQvEVqm3y",
        "outputId": "6aa96769-3d07-4693-8fdb-89432dd0206a"
      },
      "execution_count": null,
      "outputs": [
        {
          "output_type": "execute_result",
          "data": {
            "text/plain": [
              "['0.mat',\n",
              " '1.mat',\n",
              " '10.mat',\n",
              " '2.mat',\n",
              " '3.mat',\n",
              " '4.mat',\n",
              " '5.mat',\n",
              " '6.mat',\n",
              " '7.mat',\n",
              " '8.mat',\n",
              " '9.mat']"
            ]
          },
          "metadata": {},
          "execution_count": 8
        }
      ]
    }
  ]
}